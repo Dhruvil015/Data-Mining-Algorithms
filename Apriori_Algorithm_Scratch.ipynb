{
  "nbformat": 4,
  "nbformat_minor": 0,
  "metadata": {
    "colab": {
      "name": "Apriori-Algorithm-Scratch.ipynb",
      "provenance": [],
      "collapsed_sections": []
    },
    "kernelspec": {
      "name": "python3",
      "display_name": "Python 3"
    },
    "language_info": {
      "name": "python"
    }
  },
  "cells": [
    {
      "cell_type": "code",
      "metadata": {
        "id": "UzFw7BSSK_Po"
      },
      "source": [
        "from itertools import combinations\n",
        "import copy"
      ],
      "execution_count": null,
      "outputs": []
    },
    {
      "cell_type": "code",
      "metadata": {
        "id": "x4YJKPQwMASE"
      },
      "source": [
        "dataset = {\n",
        "    \"T100\" : [\"I1\",\"I2\",\"I5\"],\n",
        "    \"T200\" : [\"I2\",\"I4\"],\n",
        "    \"T300\" : [\"I2\",\"I3\"],\n",
        "    \"T400\" : [\"I1\",\"I2\",\"I4\"],\n",
        "    \"T500\" : [\"I1\",\"I3\"],\n",
        "    \"T600\" : [\"I2\",\"I3\"],\n",
        "    \"T700\" : [\"I1\",\"I3\"],\n",
        "    \"T800\" : [\"I1\",\"I2\",\"I3\",\"I5\"],\n",
        "    \"T900\" : [\"I1\",\"I2\",\"I3\"],\n",
        "}"
      ],
      "execution_count": null,
      "outputs": []
    },
    {
      "cell_type": "code",
      "metadata": {
        "id": "6ccf-9k2MCUL"
      },
      "source": [
        "itemset = []\n",
        "idset = []\n",
        "\n",
        "for key in dataset:\n",
        "  idset.append(key)\n",
        "  for i in range(len(dataset[key])):\n",
        "    if not(dataset[key][i] in itemset):\n",
        "      itemset.append(dataset[key][i])"
      ],
      "execution_count": null,
      "outputs": []
    },
    {
      "cell_type": "code",
      "metadata": {
        "colab": {
          "base_uri": "https://localhost:8080/"
        },
        "id": "b84DMscUMEgL",
        "outputId": "86749b5a-94d3-4f83-be2d-f3678bfa9e7a"
      },
      "source": [
        "def subSet(arr, n):\n",
        "  combination = list(combinations(arr, n))\n",
        "  result=[]\n",
        "  for i in range(len(combination)):\n",
        "    result.append(list(combination[i]))\n",
        "  return result\n",
        "\n",
        "def candidate(arr, n):\n",
        "  a = subSet(arr, n)\n",
        "  for i in a:\n",
        "    count=0\n",
        "    s=0\n",
        "    for j in range(len(idset)):\n",
        "      if set(i).issubset(dataset[idset[count]]):\n",
        "        s+=1\n",
        "      count+=1\n",
        "    i.append(s)\n",
        "  return a\n",
        "\n",
        "def L_function(min_sup, arr):\n",
        "  result=[]\n",
        "  for i in arr:\n",
        "    if i[-1]>=min_sup:\n",
        "      result.append(i)\n",
        "  return result\n",
        "\n",
        "def confidence(L_value, min_confidence):\n",
        "  inp = []\n",
        "  for i in range(len(L_value)):\n",
        "    inp.append(L_value[i])\n",
        "  inp.pop(-1)\n",
        "  output= sum([list(map(list, combinations(inp, i))) for i in range(len(inp) + 1)], [])\n",
        "  output.pop(0)\n",
        "  output.pop(-1)\n",
        "  for i in output:\n",
        "    count=0\n",
        "    s=0\n",
        "    for j in range(len(idset)):\n",
        "      if set(i).issubset(dataset[idset[count]]):\n",
        "        s+=1\n",
        "      count+=1\n",
        "    i.append(s)\n",
        "  \n",
        "  temp = []\n",
        "  for i in output:\n",
        "    # print([element for x in L_value if not(x in i)])\n",
        "    temp.append([x for x in L_value[:-1] if not(x in i)])\n",
        "\n",
        "\n",
        "  finalResult = []\n",
        "  print(f\"\\n--------Association Rules--------\")\n",
        "  for i in output:\n",
        "    tempres = int((L_value[-1]/i[len(i)-1])*100)\n",
        "    print(f\"{i[:-1]} => {temp[output.index(i)]} : confidence = {tempres}\")\n",
        "    if tempres >= min_confidence:\n",
        "      finalResult.append([i[:-1],temp[output.index(i)],tempres])\n",
        "  \n",
        "  return finalResult\n",
        "\n",
        "\n",
        "def main():\n",
        "  min_sup = int(input(\"Enter the minimum support : \"))\n",
        "  print(f\"value of min_sup is : {min_sup}\")\n",
        "  calConfiArr = []\n",
        "  for i in range(len(idset)):\n",
        "    cans = candidate(itemset,i+1)\n",
        "    lans = L_function(min_sup, cans)\n",
        "    if not lans :\n",
        "      break\n",
        "    else:\n",
        "      calConfiArr = lans\n",
        "      print(\"for K=\",i+1)\n",
        "      print(f\"C{i+1} = {cans}\")\n",
        "      print(f\"L{i+1} = {lans}\")\n",
        "  \n",
        "  print()\n",
        "  min_confi = int(input(\"Enter the minimum confidence : \"))\n",
        "  print(f\"value of min_confi is : {min_confi}\\n\")\n",
        " \n",
        "  for i in calConfiArr:\n",
        "    print(\"for L=\",i)\n",
        "    selected = confidence(i, min_confi)\n",
        "    print(f\"\\n--------Final Association Rules for L = {i}--------\")\n",
        "    for i in selected:\n",
        "        print(f\"{i[0]} => {i[1]} : confidence = {i[2]} \")\n",
        "    print(\"\\n\")\n",
        "\n",
        "if __name__ == \"__main__\":\n",
        "  main()"
      ],
      "execution_count": null,
      "outputs": [
        {
          "output_type": "stream",
          "name": "stdout",
          "text": [
            "Enter the minimum support : 2\n",
            "value of min_sup is : 2\n",
            "for K= 1\n",
            "C1 = [['I1', 6], ['I2', 7], ['I5', 2], ['I4', 2], ['I3', 6]]\n",
            "L1 = [['I1', 6], ['I2', 7], ['I5', 2], ['I4', 2], ['I3', 6]]\n",
            "for K= 2\n",
            "C2 = [['I1', 'I2', 4], ['I1', 'I5', 2], ['I1', 'I4', 1], ['I1', 'I3', 4], ['I2', 'I5', 2], ['I2', 'I4', 2], ['I2', 'I3', 4], ['I5', 'I4', 0], ['I5', 'I3', 1], ['I4', 'I3', 0]]\n",
            "L2 = [['I1', 'I2', 4], ['I1', 'I5', 2], ['I1', 'I3', 4], ['I2', 'I5', 2], ['I2', 'I4', 2], ['I2', 'I3', 4]]\n",
            "for K= 3\n",
            "C3 = [['I1', 'I2', 'I5', 2], ['I1', 'I2', 'I4', 1], ['I1', 'I2', 'I3', 2], ['I1', 'I5', 'I4', 0], ['I1', 'I5', 'I3', 1], ['I1', 'I4', 'I3', 0], ['I2', 'I5', 'I4', 0], ['I2', 'I5', 'I3', 1], ['I2', 'I4', 'I3', 0], ['I5', 'I4', 'I3', 0]]\n",
            "L3 = [['I1', 'I2', 'I5', 2], ['I1', 'I2', 'I3', 2]]\n",
            "\n",
            "Enter the minimum confidence : 50\n",
            "value of min_confi is : 50\n",
            "\n",
            "for L= ['I1', 'I2', 'I5', 2]\n",
            "\n",
            "--------Association Rules--------\n",
            "['I1'] => ['I2', 'I5'] : confidence = 33\n",
            "['I2'] => ['I1', 'I5'] : confidence = 28\n",
            "['I5'] => ['I1', 'I2'] : confidence = 100\n",
            "['I1', 'I2'] => ['I5'] : confidence = 50\n",
            "['I1', 'I5'] => ['I2'] : confidence = 100\n",
            "['I2', 'I5'] => ['I1'] : confidence = 100\n",
            "\n",
            "--------Final Association Rules for L = ['I1', 'I2', 'I5', 2]--------\n",
            "['I5'] => ['I1', 'I2'] : confidence = 100 \n",
            "['I1', 'I2'] => ['I5'] : confidence = 50 \n",
            "['I1', 'I5'] => ['I2'] : confidence = 100 \n",
            "['I2', 'I5'] => ['I1'] : confidence = 100 \n",
            "\n",
            "\n",
            "for L= ['I1', 'I2', 'I3', 2]\n",
            "\n",
            "--------Association Rules--------\n",
            "['I1'] => ['I2', 'I3'] : confidence = 33\n",
            "['I2'] => ['I1', 'I3'] : confidence = 28\n",
            "['I3'] => ['I1', 'I2'] : confidence = 33\n",
            "['I1', 'I2'] => ['I3'] : confidence = 50\n",
            "['I1', 'I3'] => ['I2'] : confidence = 50\n",
            "['I2', 'I3'] => ['I1'] : confidence = 50\n",
            "\n",
            "--------Final Association Rules for L = ['I1', 'I2', 'I3', 2]--------\n",
            "['I1', 'I2'] => ['I3'] : confidence = 50 \n",
            "['I1', 'I3'] => ['I2'] : confidence = 50 \n",
            "['I2', 'I3'] => ['I1'] : confidence = 50 \n",
            "\n",
            "\n"
          ]
        }
      ]
    }
  ]
}