{
  "nbformat": 4,
  "nbformat_minor": 0,
  "metadata": {
    "colab": {
      "name": "Agglomerative.ipynb",
      "provenance": [],
      "collapsed_sections": []
    },
    "kernelspec": {
      "name": "python3",
      "display_name": "Python 3"
    },
    "language_info": {
      "name": "python"
    }
  },
  "cells": [
    {
      "cell_type": "code",
      "metadata": {
        "id": "0smCmxpjVaFg"
      },
      "source": [
        "import numpy as np\n",
        "import pandas as pd\n",
        "import copy\n",
        "import scipy.cluster.hierarchy as sch\n",
        "import matplotlib.pyplot as plt"
      ],
      "execution_count": null,
      "outputs": []
    },
    {
      "cell_type": "code",
      "metadata": {
        "id": "Zus2jJLzuK94"
      },
      "source": [
        "df = pd.read_csv('USArrests.csv')\n",
        "df.drop('Unnamed: 0',axis='columns',inplace=True)\n",
        "df = df.to_numpy()\n",
        "\n",
        "dataset = []\n",
        "for i in range(len(df)):\n",
        "  dataset.append([i, [df[i]]])"
      ],
      "execution_count": null,
      "outputs": []
    },
    {
      "cell_type": "code",
      "metadata": {
        "id": "twF3JxzTs1DR"
      },
      "source": [
        "def findDistance(arr1, arr2):\n",
        "  sum = 0\n",
        "  for i in range(len(arr1)):\n",
        "    sum += (arr1[i]-arr2[i])**2\n",
        "  return np.sqrt(sum)"
      ],
      "execution_count": null,
      "outputs": []
    },
    {
      "cell_type": "code",
      "metadata": {
        "id": "tYtVla4RN4Bu"
      },
      "source": [
        "def minFunction(cluster1, cluster2):\n",
        "  minDistance = 100000000\n",
        "  for value1 in cluster1:\n",
        "    for value2 in cluster2:\n",
        "      if findDistance(value1, value2) < minDistance:\n",
        "        minDistance = findDistance(value1, value2)\n",
        "  return minDistance"
      ],
      "execution_count": null,
      "outputs": []
    },
    {
      "cell_type": "code",
      "metadata": {
        "id": "wAgufCwBtvXi"
      },
      "source": [
        "def maxFunction(cluster1, cluster2):\n",
        "  maxDistance = 0\n",
        "  for value1 in cluster1:\n",
        "    for value2 in cluster2:\n",
        "      if findDistance(value1, value2) > maxDistance:\n",
        "        maxDistance = findDistance(value1, value2)\n",
        "  return maxDistance"
      ],
      "execution_count": null,
      "outputs": []
    },
    {
      "cell_type": "code",
      "metadata": {
        "id": "-MW7jzLzuJ76"
      },
      "source": [
        "def findMean(cluster):\n",
        "  meanCluster = []\n",
        "  for i in range(len(cluster[0])):\n",
        "    sum = 0\n",
        "    for j in range(len(cluster)):\n",
        "      sum += cluster[j][i]\n",
        "    sum = sum/len(cluster)\n",
        "    meanCluster.append(sum)\n",
        "  return meanCluster"
      ],
      "execution_count": null,
      "outputs": []
    },
    {
      "cell_type": "code",
      "metadata": {
        "id": "KdEaKnCyyjAj"
      },
      "source": [
        "def meanFunction(cluster1, cluster2):\n",
        "  mean1 = findMean(cluster1)\n",
        "  mean2 = findMean(cluster2)\n",
        "  return findDistance(mean1, mean2)"
      ],
      "execution_count": null,
      "outputs": []
    },
    {
      "cell_type": "code",
      "metadata": {
        "id": "p-Xh94D5y91V"
      },
      "source": [
        "def avgFunction(cluster1, cluster2):\n",
        "  sum=0\n",
        "  for i in range(len(cluster1)):\n",
        "    for j in range(len(cluster2)):\n",
        "      sum += findDistance(cluster1[i], cluster2[j])\n",
        "  avgDist = sum/(len(cluster1)*len(cluster2))\n",
        "  return avgDist"
      ],
      "execution_count": null,
      "outputs": []
    },
    {
      "cell_type": "code",
      "metadata": {
        "id": "BDBKpNwlzhyx"
      },
      "source": [
        "def findCluster(index, dataset):\n",
        "  for i in range(len(dataset)):\n",
        "    if dataset[i][0] == index:\n",
        "      return dataset[i]\n"
      ],
      "execution_count": null,
      "outputs": []
    },
    {
      "cell_type": "code",
      "metadata": {
        "id": "BXNvBz3e14ZB"
      },
      "source": [
        "def findClosestCluster(dataset, callback):\n",
        "  index1 = 0\n",
        "  index2 = 0\n",
        "  minDist = 10000000000\n",
        "  for i in range(len(dataset)):\n",
        "    for j in range(len(dataset)):\n",
        "      if not(i == j):\n",
        "        if callback(dataset[i][1],dataset[j][1]) < minDist:\n",
        "          minDist = callback(dataset[i][1],dataset[j][1])\n",
        "          index1 = dataset[i][0]\n",
        "          index2 = dataset[j][0]\n",
        "  return [index1, index2, minDist]"
      ],
      "execution_count": null,
      "outputs": []
    },
    {
      "cell_type": "code",
      "metadata": {
        "id": "ZcyXemHA16xs"
      },
      "source": [
        "def mergingFunction(dataset, callback):\n",
        "  data = copy.deepcopy(dataset)\n",
        "  index = len(data)\n",
        "  result = []\n",
        "  while len(data) > 1:\n",
        "    closeCluster = findClosestCluster(data, callback)\n",
        "    newCluster = []\n",
        "    for item in findCluster(closeCluster[0], data)[1]:\n",
        "      newCluster.append(item)\n",
        "    for item in findCluster(closeCluster[1], data)[1]:\n",
        "      newCluster.append(item)\n",
        "    data.append([index, newCluster])\n",
        "    index = index + 1\n",
        "    result.append([closeCluster[0], closeCluster[1], closeCluster[2], len(newCluster)])\n",
        "    data.remove(findCluster(closeCluster[0], data))\n",
        "    data.remove(findCluster(closeCluster[1], data))\n",
        "  return result"
      ],
      "execution_count": null,
      "outputs": []
    },
    {
      "cell_type": "code",
      "metadata": {
        "colab": {
          "base_uri": "https://localhost:8080/",
          "height": 1000
        },
        "id": "V59Sq4Lb1-AB",
        "outputId": "45e874f3-ade0-4816-f1de-d2b796b42f30"
      },
      "source": [
        "def agglomerativeClustering(dataset):\n",
        "  while True:\n",
        "    print(\"1. Minimum distance\")\n",
        "    print(\"2. Maximum distance\")\n",
        "    print(\"3. Mean distance\")\n",
        "    print(\"4. Average distance\")\n",
        "    print()\n",
        "    choice = int(input(\"Enter the choice for distance measure :\"))\n",
        "    print(\"Your have chosen\", choice)\n",
        "    print()\n",
        "    if choice == 1:\n",
        "      callback = minFunction\n",
        "    if choice == 2:\n",
        "      callback = maxFunction\n",
        "    if choice == 3:\n",
        "      callback = meanFunction\n",
        "    if choice == 4:\n",
        "      callback = avgFunction\n",
        "    print(\"The dendrogram after agglomerative clustering is :\")\n",
        "    sch.dendrogram(mergingFunction(dataset, callback))\n",
        "    plt.show()\n",
        "    print()\n",
        "    ans = input(\"Do you want to continue? (Y/N) : \")\n",
        "    print()\n",
        "    if ans.lower() == \"n\":\n",
        "      break\n",
        "    \n",
        "agglomerativeClustering(dataset)"
      ],
      "execution_count": null,
      "outputs": [
        {
          "output_type": "stream",
          "name": "stdout",
          "text": [
            "1. Minimum distance\n",
            "2. Maximum distance\n",
            "3. Mean distance\n",
            "4. Average distance\n",
            "\n",
            "Enter the choice for distance measure :1\n",
            "Your have chosen 1\n",
            "\n",
            "The dendrogram after agglomerative clustering is :\n"
          ]
        },
        {
          "output_type": "display_data",
          "data": {
            "image/png": "[encoded data removed]",
            "text/plain": [
              "<Figure size 432x288 with 1 Axes>"
            ]
          },
          "metadata": {
            "needs_background": "light"
          }
        },
        {
          "output_type": "stream",
          "name": "stdout",
          "text": [
            "\n",
            "Do you want to continue? (Y/N) : Y\n",
            "\n",
            "1. Minimum distance\n",
            "2. Maximum distance\n",
            "3. Mean distance\n",
            "4. Average distance\n",
            "\n",
            "Enter the choice for distance measure :2\n",
            "Your have chosen 2\n",
            "\n",
            "The dendrogram after agglomerative clustering is :\n"
          ]
        },
        {
          "output_type": "display_data",
          "data": {
            "image/png": "[encoded data removed]",
            "text/plain": [
              "<Figure size 432x288 with 1 Axes>"
            ]
          },
          "metadata": {
            "needs_background": "light"
          }
        },
        {
          "output_type": "stream",
          "name": "stdout",
          "text": [
            "\n",
            "Do you want to continue? (Y/N) : Y\n",
            "\n",
            "1. Minimum distance\n",
            "2. Maximum distance\n",
            "3. Mean distance\n",
            "4. Average distance\n",
            "\n",
            "Enter the choice for distance measure :3\n",
            "Your have chosen 3\n",
            "\n",
            "The dendrogram after agglomerative clustering is :\n"
          ]
        },
        {
          "output_type": "display_data",
          "data": {
            "image/png": "[encoded data removed]",
            "text/plain": [
              "<Figure size 432x288 with 1 Axes>"
            ]
          },
          "metadata": {
            "needs_background": "light"
          }
        },
        {
          "output_type": "stream",
          "name": "stdout",
          "text": [
            "\n",
            "Do you want to continue? (Y/N) : Y\n",
            "\n",
            "1. Minimum distance\n",
            "2. Maximum distance\n",
            "3. Mean distance\n",
            "4. Average distance\n",
            "\n",
            "Enter the choice for distance measure :4\n",
            "Your have chosen 4\n",
            "\n",
            "The dendrogram after agglomerative clustering is :\n"
          ]
        },
        {
          "output_type": "display_data",
          "data": {
            "image/png": "[encoded data removed]",
            "text/plain": [
              "<Figure size 432x288 with 1 Axes>"
            ]
          },
          "metadata": {
            "needs_background": "light"
          }
        },
        {
          "output_type": "stream",
          "name": "stdout",
          "text": [
            "\n",
            "Do you want to continue? (Y/N) : N\n",
            "\n"
          ]
        }
      ]
    }
  ]
}