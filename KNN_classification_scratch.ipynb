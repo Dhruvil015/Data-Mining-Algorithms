{
  "nbformat": 4,
  "nbformat_minor": 0,
  "metadata": {
    "colab": {
      "name": "KNN-classification-scratch.ipynb",
      "provenance": [],
      "collapsed_sections": []
    },
    "kernelspec": {
      "name": "python3",
      "display_name": "Python 3"
    },
    "language_info": {
      "name": "python"
    }
  },
  "cells": [
    {
      "cell_type": "code",
      "metadata": {
        "id": "z1IUnouonxLz"
      },
      "source": [
        "import numpy as np\n",
        "from sklearn import datasets\n",
        "from sklearn.model_selection import train_test_split\n",
        "from sklearn.metrics import accuracy_score\n",
        "from collections import Counter"
      ],
      "execution_count": null,
      "outputs": []
    },
    {
      "cell_type": "code",
      "metadata": {
        "colab": {
          "base_uri": "https://localhost:8080/"
        },
        "id": "11bFvWdQof8g",
        "outputId": "b73ae25c-140d-45c2-ab9b-47e908164ef7"
      },
      "source": [
        "iris = datasets.load_iris()\n",
        "X = iris.data\n",
        "Y = iris.target\n",
        "X_train, X_test, Y_train, Y_test = train_test_split(X, Y, test_size=0.2)\n",
        "print(X.shape, Y.shape)"
      ],
      "execution_count": null,
      "outputs": [
        {
          "output_type": "stream",
          "name": "stdout",
          "text": [
            "(150, 4) (150,)\n"
          ]
        }
      ]
    },
    {
      "cell_type": "code",
      "metadata": {
        "id": "BqLJbU938aTF"
      },
      "source": [
        "class KNN:\n",
        "  def __init__(self, k):\n",
        "    self.k = k\n",
        "  \n",
        "  def fit(self, X, Y):\n",
        "    self.X_train = X\n",
        "    self.Y_train = Y\n",
        "  \n",
        "  def predict(self, X):\n",
        "    result=[]\n",
        "    for x in X:\n",
        "      distances = []\n",
        "      # here we are calculating distances from all our X_train vertices. \n",
        "      for x_train in self.X_train:\n",
        "        #here we apped calculated distance in distances array([]).\n",
        "        distances.append(np.sqrt(np.sum((x_train-x)**2)))\n",
        "    \n",
        "      # here we are sorting and selecting vertices according to our k value,\n",
        "      # and taking common of most repeted value of vertices as our lable and store into result array.\n",
        "      nearest_indexes = np.argsort(distances)[:self.k]\n",
        "      nearest_indexes_lables = [self.Y_train[i] for i in nearest_indexes]\n",
        "      majority = Counter(nearest_indexes_lables).most_common(1)\n",
        "      result.append(majority[0][0])\n",
        "    \n",
        "    return result\n",
        "  \n"
      ],
      "execution_count": null,
      "outputs": []
    },
    {
      "cell_type": "code",
      "metadata": {
        "colab": {
          "base_uri": "https://localhost:8080/"
        },
        "id": "UXEVRBQyERdF",
        "outputId": "897c128f-2c08-49fb-d559-9172e7969638"
      },
      "source": [
        "classifier_k_3 = KNN(k=3)\n",
        "classifier_k_3.fit(X_train, Y_train)\n",
        "predications_k_3 = classifier_k_3.predict(X_test)\n",
        "\n",
        "classifier_k_5 = KNN(k=5)\n",
        "classifier_k_5.fit(X_train, Y_train)\n",
        "predications_k_5 = classifier_k_5.predict(X_test)\n",
        "\n",
        "accuracy_k_3 = accuracy_score(Y_test, predications_k_3)\n",
        "accuracy_k_5 = accuracy_score(Y_test, predications_k_5)\n",
        "\n",
        "print(\"Accuracy for k=3 :\",accuracy_k_3)\n",
        "print(\"Accuracy for k=5 :\",accuracy_k_5)\n",
        "print(\"Accuracy of Decision Tree : 0.9\")\n",
        "print(\"\\n---------Accuracy order-----------\")\n",
        "print(\"\\nDecision Tree Classifier  <  K-Nearest Neighbour(k=3)  =  K-Nearest Neighbour(k=5)\\n\")"
      ],
      "execution_count": null,
      "outputs": [
        {
          "output_type": "stream",
          "name": "stdout",
          "text": [
            "Accuracy for k=3 : 0.9666666666666667\n",
            "Accuracy for k=5 : 0.9666666666666667\n",
            "Accuracy of Decision Tree : 0.9\n",
            "\n",
            "---------Accuracy order-----------\n",
            "\n",
            "Decision Tree Classifier  <  K-Nearest Neighbour(k=3)  =  K-Nearest Neighbour(k=5)\n",
            "\n"
          ]
        }
      ]
    }
  ]
}